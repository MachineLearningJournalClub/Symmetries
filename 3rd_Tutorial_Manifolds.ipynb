{
 "cells": [
  {
   "cell_type": "markdown",
   "id": "fa519354-c391-4574-9329-694a759569fd",
   "metadata": {},
   "source": [
    "# 3rd Tutorial: Manifolds Intuition and Applications\n",
    "\n",
    "This notebook is largely based on [Geomstats](https://geomstats.github.io/) and some of the notebooks provided in the geomstats repository on [Github](https://github.com/geomstats/geomstats/blob/master/notebooks). \n",
    "\n",
    "* To get an idea of the motivations behind learning about and on manifolds, please take a look at [this](https://github.com/geomstats/geomstats/blob/master/notebooks/00_foundations__introduction_to_geomstats.ipynb) awesome notebook from Adele Myers and collaborators :) \n",
    "* Also, for some more definitions, there is [this](https://github.com/geomstats/geomstats/blob/master/notebooks/01_foundations__manifolds.ipynb) notebook"
   ]
  },
  {
   "cell_type": "code",
   "execution_count": 2,
   "id": "3bb6c933-a2f0-4676-b778-1c3d599083e3",
   "metadata": {},
   "outputs": [],
   "source": [
    "#!pip install geomstats"
   ]
  },
  {
   "cell_type": "code",
   "execution_count": 3,
   "id": "b87926f7-a3ee-4af2-b2fa-3f2826e80d03",
   "metadata": {},
   "outputs": [],
   "source": [
    "import os\n",
    "import sys\n",
    "import warnings\n",
    "\n",
    "sys.path.append(os.path.dirname(os.getcwd()))\n",
    "warnings.filterwarnings(\"ignore\")\n",
    "\n",
    "import geomstats.backend as gs\n",
    "\n",
    "gs.random.seed(2020)"
   ]
  },
  {
   "cell_type": "markdown",
   "id": "a105102a-98c4-438a-9ef8-f8456fe14224",
   "metadata": {},
   "source": [
    "# Three different & intuitive definitions of a Manifold\n",
    "\n",
    "1) (Local Parametrization) a manifold is a topological space that locally resembles Euclidean space near each point. For example, consider a two dimensional grid. We would not be able to deform this grid to have the shape of a sphere under any circumstance, but at each $\\textbf{local}$ point on the manifold, we can approximate the space around the point with a Euclidean grid.\n",
    "\n",
    "2) (Local Implicit Function) a manifold can be understood as the set of points that verify a constraint defined by an implicit equation, given by the function $f$.\n",
    "\n",
    "3) (Local Graph) a manifold can be understood as a d-dimensional surface described by d variables, i.e. by the \"graph\" of a smooth function $f: (x_1,...,x_d) \\to f(x_1,...,x_d)$. This local graph cannot be applied globally (to the whole manifold) because a function $f$ must have only one output per set of inputs, and if we were to try to describe the whole manifold with such a graph, then many manifolds would have more than one output for one set of inputs."
   ]
  },
  {
   "cell_type": "markdown",
   "id": "c8031ec3-f4bb-45f1-b01b-04e26bec556f",
   "metadata": {},
   "source": [
    "## An Example: Hypersphere\n",
    "Here, we will consider how to prove that a hypersphere is a manifold using the second condition in the definition of a manifold above (2)."
   ]
  },
  {
   "cell_type": "markdown",
   "id": "41fea3e1-e34f-4201-a1ce-522bc98482da",
   "metadata": {},
   "source": [
    "A $\\textbf{hypersphere}$ is any of a set of objects (n-dimensional spheres) resulting from the generalization of a one-dimensional circle and a two-dimensional sphere. The dimension of the manifold is n and is equal to the number of degrees of freedom of a point moving in n-dimensional space, a hypersphere is the set of all points that are a given distance (called the radius) from a given point (called the center). For example, a 2-dimensional hypersphere in 3-dimensions describes all the points in 3D space that lie on the surface of a sphere. In other words, a hypersphere describes all of the points that lie in three dimensions that have two degrees of freedom $(\\phi, \\theta)$."
   ]
  },
  {
   "cell_type": "markdown",
   "id": "f0535ac4-0f7d-48a5-9961-033f99603ff4",
   "metadata": {},
   "source": [
    "$\\textbf{How do we know that a hypersphere is a manifold?}$ Well, we know from the definition of a hypersphere that a hypersphere is the set of all points that are a given distance from the center of your coordinate system. For example in 3-dimensions, the surface $S$ of a sphere with radius 1 can be described by the relation: \n",
    "\n",
    "$|x|^{2} = 1$\n",
    "\n",
    "This simply says that all the points must be a distance of 1 away from the center. (see above figure (b) and take a = 1).\n",
    "\n",
    "We can now define a function \n",
    "\n",
    "$f(x) = |x|^{2} - 1$\n",
    "\n",
    "We know that this function $f$ will always equal zero for all points that lie on the surface $S$ because in order for a point to fall on the surface $S$ the condition $|x|^{2} = 1$ must be true. In other words,\n",
    "\n",
    "$x \\in S \\iff f(x) = 0$\n",
    "\n",
    "which tells us that \n",
    "\n",
    "$x \\in S \\iff x \\in f^{-1}$({0})\n",
    "\n",
    "This last line matches the definition of a manifold: $M = f^{-1}$({0}) where $M$ is the set of points $x$ that satisfy the condition $|x|^{2} = 1$. Therefore, the set of points that satisfy the condition $|x|^{2} = 1$ form a manifold."
   ]
  },
  {
   "cell_type": "markdown",
   "id": "c19927f2-127d-4b55-8c16-e39be9aea451",
   "metadata": {},
   "source": [
    "----\n",
    "# `Manifold`s as a Class? \n",
    "\n",
    "In Geomstats a Manifold is also a class (object-oriented programming)!"
   ]
  },
  {
   "cell_type": "markdown",
   "id": "334a7b53-28bc-4bc7-81da-fd6bfe2609ce",
   "metadata": {},
   "source": [
    "The hierarchical structure of the classes inheriting from the `Manifold` parent class is as follows (this Figure is a courtesy of Nicolas Guigui):"
   ]
  },
  {
   "cell_type": "markdown",
   "id": "15971a43-c003-4812-9e62-e2cad318cc3a",
   "metadata": {},
   "source": [
    "![hierarchy](https://github.com/geomstats/geomstats/blob/master/notebooks/figures/manifold_hierarchy.jpeg?raw=true)"
   ]
  },
  {
   "cell_type": "markdown",
   "id": "b9aea86f-e97f-4233-a604-5736efd5b652",
   "metadata": {},
   "source": [
    "One of the primary purposes of the `Manifold` class is to hold information about various types of manifolds. Rules that are universally true for all manifolds are implemented in methods in the parent class `Manifold`. Rules that are true for some types of manifolds are implemented in the subclasses of `Manifold`: `LevelSet`, `OpenSet`, `FiberBundle`, `ProductManifold`, `VectorSpace`, `MatrixLieAlgebra`, and `MatrixLieGroup`. Specific types of manifolds are described in methods within these subclasses.\n",
    "\n",
    "In this notebook, we will focus on describing the subclasses pertenant to the geometry module of geomstats: `LevelSet`, `OpenSet`, `ProductManifold` and `VectorSpace`."
   ]
  },
  {
   "cell_type": "markdown",
   "id": "d164d0b7-fcf1-49e5-8b1f-742042716276",
   "metadata": {},
   "source": [
    "----\n",
    "## The Parent Class: `Manifold`"
   ]
  },
  {
   "cell_type": "markdown",
   "id": "2eb9048d-847f-4d3a-adf6-5473f5c0a691",
   "metadata": {},
   "source": [
    "The Manifold parent class is an abstract base class which provides the minimal skeleton of attributes and methods expected in its subclasses. Note that the methods of the abstract parent class are declared, but they contain no implementation, and they are overridden by the subclasses. The properties that are declared in the `Manifold` class are properties that all types of manifold must possess. For example, the following methods and attributes are implemented in `Manifold`:\n",
    "\n",
    "1. `dim`: $\\textit{attribute}$. the dimension of the manifold. \"How many coordinates are necessary to fully describe the manifold?\"\n",
    "2. `belongs()`: $\\textit{method}$. evaluates whether a given element belongs to that manifold\n",
    "3. `is_tangent()`: $\\textit{method}$. evaluates whether a given vector is a tangent vector at a given point \n",
    "4. `random_point()`: $\\textit{method}$. generates a random point that lies on the manifold"
   ]
  },
  {
   "cell_type": "markdown",
   "id": "73b3145c-8c19-42f2-b354-b669e7bb616f",
   "metadata": {},
   "source": [
    "While the abstract methods in Manifold do not contain any implementation, the methods of the subclasses of `Manifold`, such as the `Hypersphere` subclass, $\\textit{are}$ implemented and can be run. We will now exemplify this in the following section"
   ]
  },
  {
   "cell_type": "markdown",
   "id": "b392c6c4-fed5-4dd1-9566-d4a18644ce1b",
   "metadata": {},
   "source": [
    "### Examples of Using `Manifold`'s Attributes and Methods in the Subclass: `Hypersphere`"
   ]
  },
  {
   "cell_type": "markdown",
   "id": "d794c4f8-6411-4580-9f03-d52e31b160a7",
   "metadata": {},
   "source": [
    "$\\textbf{Attributes:}$"
   ]
  },
  {
   "cell_type": "markdown",
   "id": "cc9d79be-12ae-4bdd-90cf-c07f8c768c18",
   "metadata": {},
   "source": [
    "`dim` : If we build a hypersphere of dimension 2 with the following code, we can check that `sphere.dim` gives back 2. Run the following code to verify this:"
   ]
  },
  {
   "cell_type": "code",
   "execution_count": 4,
   "id": "8e8f78ed-cafd-4c1e-86e8-61c4dffdad2a",
   "metadata": {},
   "outputs": [
    {
     "name": "stdout",
     "output_type": "stream",
     "text": [
      "The dimension of the sphere is 2\n"
     ]
    }
   ],
   "source": [
    "from geomstats.geometry.hypersphere import Hypersphere\n",
    "sphere = Hypersphere(dim=2)\n",
    "\n",
    "print(f\"The dimension of the sphere is {sphere.dim}\")"
   ]
  },
  {
   "cell_type": "markdown",
   "id": "d2bf4a65-277c-4091-ab75-4da4dc592570",
   "metadata": {},
   "source": [
    "$\\textbf{Methods:}$"
   ]
  },
  {
   "cell_type": "markdown",
   "id": "41974ea8-7b53-4cf7-b72a-7315a238d3f9",
   "metadata": {},
   "source": [
    "`belongs` : We can re-use the sphere we just built (called \"sphere\") and verify that the point (0, 0, 1) belongs to that sphere (it is the north pole). Run the following code to verify this using Geomstats."
   ]
  },
  {
   "cell_type": "code",
   "execution_count": 5,
   "id": "36234830-f55a-4ab1-b957-71f72c64f500",
   "metadata": {},
   "outputs": [
    {
     "data": {
      "text/plain": [
       "True"
      ]
     },
     "execution_count": 5,
     "metadata": {},
     "output_type": "execute_result"
    }
   ],
   "source": [
    "import geomstats.backend as gs\n",
    "\n",
    "sphere.belongs(gs.array([0, 0, 1]))"
   ]
  },
  {
   "cell_type": "markdown",
   "id": "72950cc5-76cb-4247-9e60-30202757444e",
   "metadata": {},
   "source": [
    "`is_tangent` : The vector (1, 1, 0 ) is tangent to the sphere at the north pole, since it does not have a vertical component (last component is equal to 0). Run the following code to verify this using Geomstats."
   ]
  },
  {
   "cell_type": "code",
   "execution_count": 6,
   "id": "75538b39-333f-48e7-a47c-6a1f48af9dd8",
   "metadata": {},
   "outputs": [
    {
     "data": {
      "text/plain": [
       "True"
      ]
     },
     "execution_count": 6,
     "metadata": {},
     "output_type": "execute_result"
    }
   ],
   "source": [
    "sphere.is_tangent(vector=gs.array([1, 1, 0]), base_point=gs.array([0, 0, 1]))"
   ]
  },
  {
   "cell_type": "markdown",
   "id": "743a2e71-9fbb-4d88-8dbe-9e36d8ccca34",
   "metadata": {},
   "source": [
    "`random_point` : Now, we will use `random_point` to generate a random point, and then we will use `belongs` to prove that this random point belongs to the sphere."
   ]
  },
  {
   "cell_type": "code",
   "execution_count": 7,
   "id": "a2ec7bc7-8056-4633-911c-1496e5f40373",
   "metadata": {},
   "outputs": [
    {
     "data": {
      "text/plain": [
       "True"
      ]
     },
     "execution_count": 7,
     "metadata": {},
     "output_type": "execute_result"
    }
   ],
   "source": [
    "from geomstats.geometry.hypersphere import Hypersphere\n",
    "\n",
    "rp=Hypersphere.random_point(sphere)\n",
    "\n",
    "sphere.belongs(rp)"
   ]
  },
  {
   "cell_type": "markdown",
   "id": "b3e6dcaa-aacc-4279-98fb-28fc5fad9d95",
   "metadata": {},
   "source": [
    "###  The `Manifold` Class Code"
   ]
  },
  {
   "cell_type": "markdown",
   "id": "8f60af04-7ff9-4fcf-81a6-9e93be004f98",
   "metadata": {},
   "source": [
    "You can see all of the methods in the `Manifold` parent class by running the following code. Observe the abstract methods denoted with \"@abc.abstractmethod\" that do not contain any implementation, but serve as template for the subclasses to overwrite. The code of `Manifold` can also be found [here](https://github.com/geomstats/geomstats/blob/master/geomstats/geometry/manifold.py)."
   ]
  },
  {
   "cell_type": "code",
   "execution_count": 8,
   "id": "b854e2c9-884a-4873-a1a4-fd5a126ca99e",
   "metadata": {
    "scrolled": true,
    "tags": []
   },
   "outputs": [
    {
     "name": "stdout",
     "output_type": "stream",
     "text": [
      "Help on class Manifold in module geomstats.geometry.manifold:\n",
      "\n",
      "class Manifold(abc.ABC)\n",
      " |  Manifold(dim, shape, metric=None, default_point_type=None, default_coords_type='intrinsic', **kwargs)\n",
      " |  \n",
      " |  Class for manifolds.\n",
      " |  \n",
      " |  Parameters\n",
      " |  ----------\n",
      " |  dim : int\n",
      " |      Dimension of the manifold.\n",
      " |  shape : tuple of int\n",
      " |      Shape of one element of the manifold.\n",
      " |      Optional, default : None.\n",
      " |  metric : RiemannianMetric\n",
      " |      Metric object to use on the manifold.\n",
      " |  default_point_type : str, {\\'vector\\', \\'matrix\\'}\n",
      " |      Point type.\n",
      " |      Optional, default: 'vector'.\n",
      " |  default_coords_type : str, {\\'intrinsic\\', \\'extrinsic\\', etc}\n",
      " |      Coordinate type.\n",
      " |      Optional, default: 'intrinsic'.\n",
      " |  \n",
      " |  Method resolution order:\n",
      " |      Manifold\n",
      " |      abc.ABC\n",
      " |      builtins.object\n",
      " |  \n",
      " |  Methods defined here:\n",
      " |  \n",
      " |  __init__(self, dim, shape, metric=None, default_point_type=None, default_coords_type='intrinsic', **kwargs)\n",
      " |      Initialize self.  See help(type(self)) for accurate signature.\n",
      " |  \n",
      " |  belongs(self, point, atol=1e-12)\n",
      " |      Evaluate if a point belongs to the manifold.\n",
      " |      \n",
      " |      Parameters\n",
      " |      ----------\n",
      " |      point : array-like, shape=[..., dim]\n",
      " |          Point to evaluate.\n",
      " |      atol : float\n",
      " |          Absolute tolerance.\n",
      " |          Optional, default: backend atol.\n",
      " |      \n",
      " |      Returns\n",
      " |      -------\n",
      " |      belongs : array-like, shape=[...,]\n",
      " |          Boolean evaluating if point belongs to the manifold.\n",
      " |  \n",
      " |  is_tangent(self, vector, base_point, atol=1e-12)\n",
      " |      Check whether the vector is tangent at base_point.\n",
      " |      \n",
      " |      Parameters\n",
      " |      ----------\n",
      " |      vector : array-like, shape=[..., dim]\n",
      " |          Vector.\n",
      " |      base_point : array-like, shape=[..., dim]\n",
      " |          Point on the manifold.\n",
      " |      atol : float\n",
      " |          Absolute tolerance.\n",
      " |          Optional, default: backend atol.\n",
      " |      \n",
      " |      Returns\n",
      " |      -------\n",
      " |      is_tangent : bool\n",
      " |          Boolean denoting if vector is a tangent vector at the base point.\n",
      " |  \n",
      " |  random_point(self, n_samples=1, bound=1.0)\n",
      " |      Sample random points on the manifold.\n",
      " |      \n",
      " |      If the manifold is compact, a uniform distribution is used.\n",
      " |      \n",
      " |      Parameters\n",
      " |      ----------\n",
      " |      n_samples : int\n",
      " |          Number of samples.\n",
      " |          Optional, default: 1.\n",
      " |      bound : float\n",
      " |          Bound of the interval in which to sample for non compact manifolds.\n",
      " |          Optional, default: 1.\n",
      " |      \n",
      " |      Returns\n",
      " |      -------\n",
      " |      samples : array-like, shape=[..., {dim, [n, n]}]\n",
      " |          Points sampled on the manifold.\n",
      " |  \n",
      " |  random_tangent_vec(self, base_point, n_samples=1)\n",
      " |      Generate random tangent vec.\n",
      " |      \n",
      " |      Parameters\n",
      " |      ----------\n",
      " |      n_samples : int\n",
      " |          Number of samples.\n",
      " |          Optional, default: 1.\n",
      " |      base_point :  array-like, shape=[..., dim]\n",
      " |          Point.\n",
      " |      \n",
      " |      Returns\n",
      " |      -------\n",
      " |      tangent_vec : array-like, shape=[..., dim]\n",
      " |          Tangent vec at base point.\n",
      " |  \n",
      " |  regularize(self, point)\n",
      " |      Regularize a point to the canonical representation for the manifold.\n",
      " |      \n",
      " |      Parameters\n",
      " |      ----------\n",
      " |      point : array-like, shape=[..., dim]\n",
      " |          Point.\n",
      " |      \n",
      " |      Returns\n",
      " |      -------\n",
      " |      regularized_point : array-like, shape=[..., dim]\n",
      " |          Regularized point.\n",
      " |  \n",
      " |  to_tangent(self, vector, base_point)\n",
      " |      Project a vector to a tangent space of the manifold.\n",
      " |      \n",
      " |      Parameters\n",
      " |      ----------\n",
      " |      vector : array-like, shape=[..., dim]\n",
      " |          Vector.\n",
      " |      base_point : array-like, shape=[..., dim]\n",
      " |          Point on the manifold.\n",
      " |      \n",
      " |      Returns\n",
      " |      -------\n",
      " |      tangent_vec : array-like, shape=[..., dim]\n",
      " |          Tangent vector at base point.\n",
      " |  \n",
      " |  ----------------------------------------------------------------------\n",
      " |  Data descriptors defined here:\n",
      " |  \n",
      " |  __dict__\n",
      " |      dictionary for instance variables (if defined)\n",
      " |  \n",
      " |  __weakref__\n",
      " |      list of weak references to the object (if defined)\n",
      " |  \n",
      " |  metric\n",
      " |      Riemannian Metric associated to the Manifold.\n",
      " |  \n",
      " |  ----------------------------------------------------------------------\n",
      " |  Data and other attributes defined here:\n",
      " |  \n",
      " |  __abstractmethods__ = frozenset({'belongs', 'is_tangent', 'random_poin...\n",
      "\n"
     ]
    }
   ],
   "source": [
    "from geomstats.geometry.manifold import Manifold\n",
    "help(Manifold)"
   ]
  },
  {
   "cell_type": "markdown",
   "id": "b5c81936-f82c-47cd-ab71-354567e9d843",
   "metadata": {},
   "source": [
    "----\n",
    "## `OpenSet`"
   ]
  },
  {
   "cell_type": "markdown",
   "id": "0c8d0622-46c0-4cca-954d-842da0d482f8",
   "metadata": {},
   "source": [
    "Earlier in the notebook, we were able to say that a set of points is a manifold if it satisfied one of three constraints. We also said that every manifold can be described by any three of these definitions, and the choice of defintion is merely a question of which definition is most convenient. `OpenSet` provides a way of describing manifolds with local parametrization, which was labeled (1) on our definition list.\n",
    "\n",
    "One such way to describe a manifold is with the concept of an $\\textbf{Open Set}$: a manifold is the open sets of a d-dimensional vector space, called $\\textbf{ambient space}$."
   ]
  },
  {
   "cell_type": "markdown",
   "id": "2a3ed6e3-aeeb-46ac-a1cb-b18a9175b925",
   "metadata": {},
   "source": [
    "### What is an Open Set?"
   ]
  },
  {
   "cell_type": "markdown",
   "id": "789c512c-ca5f-46fe-be7c-6d0c58f5e24d",
   "metadata": {},
   "source": [
    "Intuitively, an open set is a group of numbers that does not include points on the boundary of whatever they are describing. For example, if you were to take the set of all points between a and b but $\\textbf{not}$ include the values a and b, this would be an open set (shown in figure a). If you were to take the set of all points between a and b and include the values a and b, this would be a closed set (shown in figure b)"
   ]
  },
  {
   "cell_type": "markdown",
   "id": "2b8ea886-cc15-4cc2-af3b-f59d249d209d",
   "metadata": {},
   "source": [
    "![OpenSetLine](https://github.com/geomstats/geomstats/blob/master/notebooks/figures/manifold_openSet_lines.png?raw=true)"
   ]
  },
  {
   "cell_type": "markdown",
   "id": "03979c78-9344-4891-a1fa-77dad792ccc9",
   "metadata": {},
   "source": [
    "The above examples showed open and closed sets in one dimension. Similarly, in two dimensions, open sets can be defined as sets which do not contain their boundaries. For example, the inside of the sphere, i.e. the ball without its boundary, is a manifold that is an open set. The image below shows an example of an open set (a) and a closed set (b) in two dimensions."
   ]
  },
  {
   "cell_type": "markdown",
   "id": "58f2d51d-2be2-472f-836b-b6d0550eeb68",
   "metadata": {},
   "source": [
    "![OpenSetSurface](https://github.com/geomstats/geomstats/blob/master/notebooks/figures/manifold_openSurfaces.png?raw=true)"
   ]
  },
  {
   "cell_type": "markdown",
   "id": "dfbb88d5-f352-4909-896b-2985b30f7ca4",
   "metadata": {},
   "source": [
    "### What Methods are Implemented in `OpenSet`?"
   ]
  },
  {
   "cell_type": "markdown",
   "id": "ac9b248a-ac33-4f23-b5a5-63d4468efbea",
   "metadata": {},
   "source": [
    "If we know that a manifold is conveniently described as an open set, then some of the manifold's abstract methods can be rewritten in a specific form. For example, `OpenSet` implements the methods:\n",
    "\n",
    "1. `projection()`: a method to project any d-dimensional vector to the manifold.\n",
    "2. `is_tangent()`: checks whether the input vector is tangent at the input point.\n",
    "3. `to_tangent()`: projects a vector to a tangent space of the manifold.\n",
    "\n",
    "Note that we do not (yet) specify which manifold we are talking about (whether it is a sphere or another surface), we are just saying that we are looking at some manifold that can be described as an open set"
   ]
  },
  {
   "cell_type": "markdown",
   "id": "ed57e28c-604c-47bb-a018-eeb6cb473df1",
   "metadata": {},
   "source": [
    "Run the code below to see the contents of the `OpenSet` class."
   ]
  },
  {
   "cell_type": "code",
   "execution_count": 9,
   "id": "684f877b-8528-4c7c-b216-f7d9143cd006",
   "metadata": {
    "scrolled": true
   },
   "outputs": [
    {
     "name": "stdout",
     "output_type": "stream",
     "text": [
      "Help on class OpenSet in module geomstats.geometry.base:\n",
      "\n",
      "class OpenSet(geomstats.geometry.manifold.Manifold, abc.ABC)\n",
      " |  OpenSet(dim, ambient_space, **kwargs)\n",
      " |  \n",
      " |  Class for manifolds that are open sets of a vector space.\n",
      " |  \n",
      " |  In this case, tangent vectors are identified with vectors of the ambient\n",
      " |  space.\n",
      " |  \n",
      " |  Parameters\n",
      " |  ----------\n",
      " |  dim: int\n",
      " |      Dimension of the manifold. It is often the same as the ambient space\n",
      " |      dimension but may differ in some cases.\n",
      " |  ambient_space: VectorSpace\n",
      " |      Ambient space that contains the manifold.\n",
      " |  \n",
      " |  Method resolution order:\n",
      " |      OpenSet\n",
      " |      geomstats.geometry.manifold.Manifold\n",
      " |      abc.ABC\n",
      " |      builtins.object\n",
      " |  \n",
      " |  Methods defined here:\n",
      " |  \n",
      " |  __init__(self, dim, ambient_space, **kwargs)\n",
      " |      Initialize self.  See help(type(self)) for accurate signature.\n",
      " |  \n",
      " |  is_tangent(self, vector, base_point=None, atol=1e-12)\n",
      " |      Check whether the vector is tangent at base_point.\n",
      " |      \n",
      " |      Parameters\n",
      " |      ----------\n",
      " |      vector : array-like, shape=[..., dim]\n",
      " |          Vector.\n",
      " |      base_point : array-like, shape=[..., dim]\n",
      " |          Point on the manifold.\n",
      " |      atol : float\n",
      " |          Absolute tolerance.\n",
      " |          Optional, default: backend atol.\n",
      " |      \n",
      " |      Returns\n",
      " |      -------\n",
      " |      is_tangent : bool\n",
      " |          Boolean denoting if vector is a tangent vector at the base point.\n",
      " |  \n",
      " |  projection(self, point)\n",
      " |      Project a point in ambient manifold on manifold.\n",
      " |      \n",
      " |      Parameters\n",
      " |      ----------\n",
      " |      point : array-like, shape=[..., dim]\n",
      " |          Point in ambient manifold.\n",
      " |      \n",
      " |      Returns\n",
      " |      -------\n",
      " |      projected : array-like, shape=[..., dim]\n",
      " |          Projected point.\n",
      " |  \n",
      " |  random_point(self, n_samples=1, bound=1.0)\n",
      " |      Sample random points on the manifold.\n",
      " |      \n",
      " |      If the manifold is compact, a uniform distribution is used.\n",
      " |      \n",
      " |      Parameters\n",
      " |      ----------\n",
      " |      n_samples : int\n",
      " |          Number of samples.\n",
      " |          Optional, default: 1.\n",
      " |      bound : float\n",
      " |          Bound of the interval in which to sample for non compact manifolds.\n",
      " |          Optional, default: 1.\n",
      " |      \n",
      " |      Returns\n",
      " |      -------\n",
      " |      samples : array-like, shape=[..., {dim, [n, n]}]\n",
      " |          Points sampled on the hypersphere.\n",
      " |  \n",
      " |  to_tangent(self, vector, base_point=None)\n",
      " |      Project a vector to a tangent space of the manifold.\n",
      " |      \n",
      " |      Parameters\n",
      " |      ----------\n",
      " |      vector : array-like, shape=[..., dim]\n",
      " |          Vector.\n",
      " |      base_point : array-like, shape=[..., dim]\n",
      " |          Point on the manifold.\n",
      " |      \n",
      " |      Returns\n",
      " |      -------\n",
      " |      tangent_vec : array-like, shape=[..., dim]\n",
      " |          Tangent vector at base point.\n",
      " |  \n",
      " |  ----------------------------------------------------------------------\n",
      " |  Data and other attributes defined here:\n",
      " |  \n",
      " |  __abstractmethods__ = frozenset({'belongs', 'projection'})\n",
      " |  \n",
      " |  ----------------------------------------------------------------------\n",
      " |  Methods inherited from geomstats.geometry.manifold.Manifold:\n",
      " |  \n",
      " |  belongs(self, point, atol=1e-12)\n",
      " |      Evaluate if a point belongs to the manifold.\n",
      " |      \n",
      " |      Parameters\n",
      " |      ----------\n",
      " |      point : array-like, shape=[..., dim]\n",
      " |          Point to evaluate.\n",
      " |      atol : float\n",
      " |          Absolute tolerance.\n",
      " |          Optional, default: backend atol.\n",
      " |      \n",
      " |      Returns\n",
      " |      -------\n",
      " |      belongs : array-like, shape=[...,]\n",
      " |          Boolean evaluating if point belongs to the manifold.\n",
      " |  \n",
      " |  random_tangent_vec(self, base_point, n_samples=1)\n",
      " |      Generate random tangent vec.\n",
      " |      \n",
      " |      Parameters\n",
      " |      ----------\n",
      " |      n_samples : int\n",
      " |          Number of samples.\n",
      " |          Optional, default: 1.\n",
      " |      base_point :  array-like, shape=[..., dim]\n",
      " |          Point.\n",
      " |      \n",
      " |      Returns\n",
      " |      -------\n",
      " |      tangent_vec : array-like, shape=[..., dim]\n",
      " |          Tangent vec at base point.\n",
      " |  \n",
      " |  regularize(self, point)\n",
      " |      Regularize a point to the canonical representation for the manifold.\n",
      " |      \n",
      " |      Parameters\n",
      " |      ----------\n",
      " |      point : array-like, shape=[..., dim]\n",
      " |          Point.\n",
      " |      \n",
      " |      Returns\n",
      " |      -------\n",
      " |      regularized_point : array-like, shape=[..., dim]\n",
      " |          Regularized point.\n",
      " |  \n",
      " |  ----------------------------------------------------------------------\n",
      " |  Data descriptors inherited from geomstats.geometry.manifold.Manifold:\n",
      " |  \n",
      " |  __dict__\n",
      " |      dictionary for instance variables (if defined)\n",
      " |  \n",
      " |  __weakref__\n",
      " |      list of weak references to the object (if defined)\n",
      " |  \n",
      " |  metric\n",
      " |      Riemannian Metric associated to the Manifold.\n",
      "\n"
     ]
    }
   ],
   "source": [
    "from geomstats.geometry.base import OpenSet\n",
    "help(OpenSet)"
   ]
  },
  {
   "cell_type": "markdown",
   "id": "15ec73fa-40d1-4959-807d-53a35d95b2ff",
   "metadata": {},
   "source": [
    "----\n",
    "## `LevelSet`"
   ]
  },
  {
   "cell_type": "markdown",
   "id": "24c43640-a700-4c3d-bf04-5c42f800d933",
   "metadata": {},
   "source": [
    "### What is a Level Set?"
   ]
  },
  {
   "cell_type": "markdown",
   "id": "546ec1b1-4a93-4aff-abf2-aa1b337d2a9b",
   "metadata": {},
   "source": [
    "Another elementary class of manifolds are $\\textbf{Level Sets}$. A level set is the set of values $x$ for which a function f(x) is equal to a given constant. In other words, a level set is a set of curves for which the fucntion describing a manifold is constant along that curve. \n",
    "\n",
    "In the same way that `OpenSet` is an implementation of the first definition of a manifold (Local Parametrization), `LevelSet` is an implementation of the second definition of a manifold (Local Implicit Function). a level set is a set of points for which the function $f$ takes the exact same value. This value is called the \"level\", and does not need to be a scalar, it could also be a vector.\n",
    "\n",
    "For example, consider a hypersphere in three dimensional space. Each of the concentric spheres is a 2-dimensional manifold, each corresponding to a different level $(r1, r2,r3)$."
   ]
  },
  {
   "cell_type": "markdown",
   "id": "fa7b8d4f-2b4e-41dc-a4dc-d70300aa27c6",
   "metadata": {},
   "source": [
    "![Levelsetmanifold](https://github.com/geomstats/geomstats/blob/master/notebooks/figures/manifold_LevelSet.png?raw=true)"
   ]
  },
  {
   "cell_type": "markdown",
   "id": "b7cbc03d-81d6-44f0-828c-3a05baa30f8a",
   "metadata": {},
   "source": [
    "You can see [here](https://github.com/geomstats/geomstats/blob/20cccf598e94823ef8d7c0821b2968e6d29660c0/geomstats/geometry/hypersphere.py#L22) that the subclass `Hypersphere` is indeed implemented as a `LevelSet`."
   ]
  },
  {
   "cell_type": "markdown",
   "id": "25ce186d-ec81-4146-a767-8ba76cceaa26",
   "metadata": {},
   "source": [
    "### `LevelSet` in Geomstats"
   ]
  },
  {
   "cell_type": "markdown",
   "id": "e959daab-bf68-496c-aa5e-ed1779976614",
   "metadata": {},
   "source": [
    "You can run the code below to see the contents of the `LevelSet` class. The methods of LevelSet are similar to the methods of OpenSet , but their implementation is different. Recall from above, the Local Implicit Function definition, which `LevelSet` is an implementation of. \n",
    "\n",
    "`OpenSet` is an implementation of the first manifold definition (Local Parametrization), and therefore need not follow the (Local Implicit Function) rule above. This is the reason that, `OpenSet` methods and `LevelSet` methods are implemented differently. As an example of these different implementations: observe the implementation of the belongs methods in `LevelSet`. For a general level set, in order to verify if a point belongs to the level set, we should verify that the (Local Implicit Function) definition constraint is met, which is done with the line\n",
    "\n",
    "`constraint = gs.isclose(self.submersion(point), value, atol=atol)`"
   ]
  },
  {
   "cell_type": "code",
   "execution_count": 10,
   "id": "1c47afc1-36c0-4c49-9ad9-5396faa8129b",
   "metadata": {
    "scrolled": true,
    "tags": []
   },
   "outputs": [
    {
     "name": "stdout",
     "output_type": "stream",
     "text": [
      "Help on class LevelSet in module geomstats.geometry.base:\n",
      "\n",
      "class LevelSet(geomstats.geometry.manifold.Manifold, abc.ABC)\n",
      " |  LevelSet(dim, embedding_space, submersion, value, tangent_submersion, default_coords_type='intrinsic', **kwargs)\n",
      " |  \n",
      " |  Class for manifolds embedded in a vector space by a submersion.\n",
      " |  \n",
      " |  Parameters\n",
      " |  ----------\n",
      " |  dim : int\n",
      " |      Dimension of the embedded manifold.\n",
      " |  embedding_space : VectorSpace\n",
      " |      Embedding space.\n",
      " |  default_coords_type : str, {'intrinsic', 'extrinsic', etc}\n",
      " |      Coordinate type.\n",
      " |      Optional, default: 'intrinsic'.\n",
      " |  \n",
      " |  Method resolution order:\n",
      " |      LevelSet\n",
      " |      geomstats.geometry.manifold.Manifold\n",
      " |      abc.ABC\n",
      " |      builtins.object\n",
      " |  \n",
      " |  Methods defined here:\n",
      " |  \n",
      " |  __init__(self, dim, embedding_space, submersion, value, tangent_submersion, default_coords_type='intrinsic', **kwargs)\n",
      " |      Initialize self.  See help(type(self)) for accurate signature.\n",
      " |  \n",
      " |  belongs(self, point, atol=1e-12)\n",
      " |      Evaluate if a point belongs to the manifold.\n",
      " |      \n",
      " |      Parameters\n",
      " |      ----------\n",
      " |      point : array-like, shape=[..., dim]\n",
      " |          Point to evaluate.\n",
      " |      atol : float\n",
      " |          Absolute tolerance.\n",
      " |          Optional, default: backend atol.\n",
      " |      \n",
      " |      Returns\n",
      " |      -------\n",
      " |      belongs : array-like, shape=[...,]\n",
      " |          Boolean evaluating if point belongs to the manifold.\n",
      " |  \n",
      " |  extrinsic_to_intrinsic_coords(self, point_extrinsic)\n",
      " |      Convert from extrinsic to intrinsic coordinates.\n",
      " |      \n",
      " |      Parameters\n",
      " |      ----------\n",
      " |      point_extrinsic : array-like, shape=[..., dim_embedding]\n",
      " |          Point in the embedded manifold in extrinsic coordinates,\n",
      " |          i. e. in the coordinates of the embedding manifold.\n",
      " |      \n",
      " |      Returns\n",
      " |      -------\n",
      " |      point_intrinsic : array-lie, shape=[..., dim]\n",
      " |          Point in the embedded manifold in intrinsic coordinates.\n",
      " |  \n",
      " |  intrinsic_to_extrinsic_coords(self, point_intrinsic)\n",
      " |      Convert from intrinsic to extrinsic coordinates.\n",
      " |      \n",
      " |      Parameters\n",
      " |      ----------\n",
      " |      point_intrinsic : array-like, shape=[..., dim]\n",
      " |          Point in the embedded manifold in intrinsic coordinates.\n",
      " |      \n",
      " |      Returns\n",
      " |      -------\n",
      " |      point_extrinsic : array-like, shape=[..., dim_embedding]\n",
      " |          Point in the embedded manifold in extrinsic coordinates.\n",
      " |  \n",
      " |  is_tangent(self, vector, base_point, atol=1e-12)\n",
      " |      Check whether the vector is tangent at base_point.\n",
      " |      \n",
      " |      Parameters\n",
      " |      ----------\n",
      " |      vector : array-like, shape=[..., dim]\n",
      " |          Vector.\n",
      " |      base_point : array-like, shape=[..., dim]\n",
      " |          Point on the manifold.\n",
      " |      atol : float\n",
      " |          Absolute tolerance.\n",
      " |          Optional, default: backend atol.\n",
      " |      \n",
      " |      Returns\n",
      " |      -------\n",
      " |      is_tangent : bool\n",
      " |          Boolean denoting if vector is a tangent vector at the base point.\n",
      " |  \n",
      " |  projection(self, point)\n",
      " |      Project a point in embedding manifold on embedded manifold.\n",
      " |      \n",
      " |      Parameters\n",
      " |      ----------\n",
      " |      point : array-like, shape=[..., dim_embedding]\n",
      " |          Point in embedding manifold.\n",
      " |      \n",
      " |      Returns\n",
      " |      -------\n",
      " |      projected : array-like, shape=[..., dim_embedding]\n",
      " |          Projected point.\n",
      " |  \n",
      " |  to_tangent(self, vector, base_point)\n",
      " |      Project a vector to a tangent space of the manifold.\n",
      " |      \n",
      " |      Parameters\n",
      " |      ----------\n",
      " |      vector : array-like, shape=[..., dim]\n",
      " |          Vector.\n",
      " |      base_point : array-like, shape=[..., dim]\n",
      " |          Point on the manifold.\n",
      " |      \n",
      " |      Returns\n",
      " |      -------\n",
      " |      tangent_vec : array-like, shape=[..., dim]\n",
      " |          Tangent vector at base point.\n",
      " |  \n",
      " |  ----------------------------------------------------------------------\n",
      " |  Data and other attributes defined here:\n",
      " |  \n",
      " |  __abstractmethods__ = frozenset({'projection', 'random_point', 'to_tan...\n",
      " |  \n",
      " |  ----------------------------------------------------------------------\n",
      " |  Methods inherited from geomstats.geometry.manifold.Manifold:\n",
      " |  \n",
      " |  random_point(self, n_samples=1, bound=1.0)\n",
      " |      Sample random points on the manifold.\n",
      " |      \n",
      " |      If the manifold is compact, a uniform distribution is used.\n",
      " |      \n",
      " |      Parameters\n",
      " |      ----------\n",
      " |      n_samples : int\n",
      " |          Number of samples.\n",
      " |          Optional, default: 1.\n",
      " |      bound : float\n",
      " |          Bound of the interval in which to sample for non compact manifolds.\n",
      " |          Optional, default: 1.\n",
      " |      \n",
      " |      Returns\n",
      " |      -------\n",
      " |      samples : array-like, shape=[..., {dim, [n, n]}]\n",
      " |          Points sampled on the manifold.\n",
      " |  \n",
      " |  random_tangent_vec(self, base_point, n_samples=1)\n",
      " |      Generate random tangent vec.\n",
      " |      \n",
      " |      Parameters\n",
      " |      ----------\n",
      " |      n_samples : int\n",
      " |          Number of samples.\n",
      " |          Optional, default: 1.\n",
      " |      base_point :  array-like, shape=[..., dim]\n",
      " |          Point.\n",
      " |      \n",
      " |      Returns\n",
      " |      -------\n",
      " |      tangent_vec : array-like, shape=[..., dim]\n",
      " |          Tangent vec at base point.\n",
      " |  \n",
      " |  regularize(self, point)\n",
      " |      Regularize a point to the canonical representation for the manifold.\n",
      " |      \n",
      " |      Parameters\n",
      " |      ----------\n",
      " |      point : array-like, shape=[..., dim]\n",
      " |          Point.\n",
      " |      \n",
      " |      Returns\n",
      " |      -------\n",
      " |      regularized_point : array-like, shape=[..., dim]\n",
      " |          Regularized point.\n",
      " |  \n",
      " |  ----------------------------------------------------------------------\n",
      " |  Data descriptors inherited from geomstats.geometry.manifold.Manifold:\n",
      " |  \n",
      " |  __dict__\n",
      " |      dictionary for instance variables (if defined)\n",
      " |  \n",
      " |  __weakref__\n",
      " |      list of weak references to the object (if defined)\n",
      " |  \n",
      " |  metric\n",
      " |      Riemannian Metric associated to the Manifold.\n",
      "\n"
     ]
    }
   ],
   "source": [
    "from geomstats.geometry.base import LevelSet\n",
    "help(LevelSet)"
   ]
  },
  {
   "cell_type": "markdown",
   "id": "061bde28-db30-4776-b1d8-0040df65e5fc",
   "metadata": {},
   "source": [
    "## `VectorSpace`"
   ]
  },
  {
   "cell_type": "markdown",
   "id": "8ef7c115-b043-402c-b885-135ad39d7c04",
   "metadata": {},
   "source": [
    "A $\\textit{vector space}$ is a special case of manifold where a vector exists at each point.\n",
    "\n",
    "Many operations defined on manifolds become simpler when the manifold is actually a vector space. Additionally, the ambient spaces used to define manifolds as open or closed sets are often vector spaces. Thus, we provide an implementation `VectorSpace`."
   ]
  },
  {
   "cell_type": "markdown",
   "id": "fb399c5a-08bd-43a6-a68b-25f658788404",
   "metadata": {},
   "source": [
    "This class does not provide another way of describing a manifold. This class is an abstract class that makes sure that the ambient/embedding vector space is compatible with the methods that are called in `OpenSet` and `LevelSet`.\n",
    "\n",
    "Actual manifolds are implemented as subclasses of this abstract method and must implement all the abstract methods defined in this class."
   ]
  },
  {
   "cell_type": "markdown",
   "id": "5980e318-64a7-40ed-89c0-ba4255883221",
   "metadata": {},
   "source": [
    "You can run the code below to see the contents of the `VectorSpace` class. Observe that, in a `VectorSpace` manifold, the manifold is comprised of vectors -- and more specifically, tangent vectors. Thus, in the implementation, we can see that in the `is_tangent()` method: in order to check that a vector is a tangent to the manifold, we only need to check that the vector belongs to the vector space."
   ]
  },
  {
   "cell_type": "code",
   "execution_count": 11,
   "id": "46303470-372c-4f4b-b8dd-cfe5de4ca292",
   "metadata": {
    "scrolled": true,
    "tags": []
   },
   "outputs": [
    {
     "name": "stdout",
     "output_type": "stream",
     "text": [
      "Help on class VectorSpace in module geomstats.geometry.base:\n",
      "\n",
      "class VectorSpace(geomstats.geometry.manifold.Manifold, abc.ABC)\n",
      " |  VectorSpace(shape, **kwargs)\n",
      " |  \n",
      " |  Abstract class for vector spaces.\n",
      " |  \n",
      " |  Parameters\n",
      " |  ----------\n",
      " |  shape : tuple\n",
      " |      Shape of the elements of the vector space. The dimension is the\n",
      " |      product of these values by default.\n",
      " |  default_point_type : str, {'vector', 'matrix'}\n",
      " |      Point type.\n",
      " |      Optional, default: 'vector'.\n",
      " |  \n",
      " |  Method resolution order:\n",
      " |      VectorSpace\n",
      " |      geomstats.geometry.manifold.Manifold\n",
      " |      abc.ABC\n",
      " |      builtins.object\n",
      " |  \n",
      " |  Methods defined here:\n",
      " |  \n",
      " |  __init__(self, shape, **kwargs)\n",
      " |      Initialize self.  See help(type(self)) for accurate signature.\n",
      " |  \n",
      " |  belongs(self, point, atol=1e-12)\n",
      " |      Evaluate if the point belongs to the vector space.\n",
      " |      \n",
      " |      This method checks the shape of the input point.\n",
      " |      \n",
      " |      Parameters\n",
      " |      ----------\n",
      " |      point : array-like, shape=[.., {dim, [n, n]}]\n",
      " |          Point to test.\n",
      " |      atol : float\n",
      " |          Unused here.\n",
      " |      \n",
      " |      Returns\n",
      " |      -------\n",
      " |      belongs : array-like, shape=[...,]\n",
      " |          Boolean evaluating if point belongs to the space.\n",
      " |  \n",
      " |  is_tangent(self, vector, base_point=None, atol=1e-12)\n",
      " |      Check whether the vector is tangent at base_point.\n",
      " |      \n",
      " |      Tangent vectors are identified with points of the vector space so\n",
      " |      this checks the shape of the input vector.\n",
      " |      \n",
      " |      Parameters\n",
      " |      ----------\n",
      " |      vector : array-like, shape=[..., {dim, [n, n]}]\n",
      " |          Vector.\n",
      " |      base_point : array-like, shape=[..., {dim, [n, n]}]\n",
      " |          Point in the vector space.\n",
      " |      atol : float\n",
      " |          Absolute tolerance.\n",
      " |          Optional, default: backend atol.\n",
      " |      \n",
      " |      Returns\n",
      " |      -------\n",
      " |      is_tangent : bool\n",
      " |          Boolean denoting if vector is a tangent vector at the base point.\n",
      " |  \n",
      " |  random_point(self, n_samples=1, bound=1.0)\n",
      " |      Sample in the vector space with a uniform distribution in a box.\n",
      " |      \n",
      " |      Parameters\n",
      " |      ----------\n",
      " |      n_samples : int\n",
      " |          Number of samples.\n",
      " |          Optional, default: 1.\n",
      " |      bound : float\n",
      " |          Side of hypercube support of the uniform distribution.\n",
      " |          Optional, default: 1.0\n",
      " |      \n",
      " |      Returns\n",
      " |      -------\n",
      " |      point : array-like, shape=[..., dim]\n",
      " |         Sample.\n",
      " |  \n",
      " |  to_tangent(self, vector, base_point=None)\n",
      " |      Project a vector to a tangent space of the vector space.\n",
      " |      \n",
      " |      This method is for compatibility and returns vector.\n",
      " |      \n",
      " |      Parameters\n",
      " |      ----------\n",
      " |      vector : array-like, shape=[..., {dim, [n, n]}]\n",
      " |          Vector.\n",
      " |      base_point : array-like, shape=[..., {dim, [n, n]}]\n",
      " |          Point in the vector space\n",
      " |      \n",
      " |      Returns\n",
      " |      -------\n",
      " |      tangent_vec : array-like, shape=[..., {dim, [n, n]}]\n",
      " |          Tangent vector at base point.\n",
      " |  \n",
      " |  ----------------------------------------------------------------------\n",
      " |  Static methods defined here:\n",
      " |  \n",
      " |  projection(point)\n",
      " |      Project a point to the vector space.\n",
      " |      \n",
      " |      This method is for compatibility and returns `point`. `point` should\n",
      " |      have the right shape,\n",
      " |      \n",
      " |      Parameters\n",
      " |      ----------\n",
      " |      point: array-like, shape[..., {dim, [n, n]}]\n",
      " |          Point.\n",
      " |      \n",
      " |      Returns\n",
      " |      -------\n",
      " |      point: array-like, shape[..., {dim, [n, n]}]\n",
      " |          Point.\n",
      " |  \n",
      " |  ----------------------------------------------------------------------\n",
      " |  Data descriptors defined here:\n",
      " |  \n",
      " |  basis\n",
      " |      Basis of the vector space.\n",
      " |  \n",
      " |  ----------------------------------------------------------------------\n",
      " |  Data and other attributes defined here:\n",
      " |  \n",
      " |  __abstractmethods__ = frozenset({'_create_basis'})\n",
      " |  \n",
      " |  ----------------------------------------------------------------------\n",
      " |  Methods inherited from geomstats.geometry.manifold.Manifold:\n",
      " |  \n",
      " |  random_tangent_vec(self, base_point, n_samples=1)\n",
      " |      Generate random tangent vec.\n",
      " |      \n",
      " |      Parameters\n",
      " |      ----------\n",
      " |      n_samples : int\n",
      " |          Number of samples.\n",
      " |          Optional, default: 1.\n",
      " |      base_point :  array-like, shape=[..., dim]\n",
      " |          Point.\n",
      " |      \n",
      " |      Returns\n",
      " |      -------\n",
      " |      tangent_vec : array-like, shape=[..., dim]\n",
      " |          Tangent vec at base point.\n",
      " |  \n",
      " |  regularize(self, point)\n",
      " |      Regularize a point to the canonical representation for the manifold.\n",
      " |      \n",
      " |      Parameters\n",
      " |      ----------\n",
      " |      point : array-like, shape=[..., dim]\n",
      " |          Point.\n",
      " |      \n",
      " |      Returns\n",
      " |      -------\n",
      " |      regularized_point : array-like, shape=[..., dim]\n",
      " |          Regularized point.\n",
      " |  \n",
      " |  ----------------------------------------------------------------------\n",
      " |  Data descriptors inherited from geomstats.geometry.manifold.Manifold:\n",
      " |  \n",
      " |  __dict__\n",
      " |      dictionary for instance variables (if defined)\n",
      " |  \n",
      " |  __weakref__\n",
      " |      list of weak references to the object (if defined)\n",
      " |  \n",
      " |  metric\n",
      " |      Riemannian Metric associated to the Manifold.\n",
      "\n"
     ]
    }
   ],
   "source": [
    "from geomstats.geometry.base import VectorSpace\n",
    "help(VectorSpace)"
   ]
  },
  {
   "cell_type": "markdown",
   "id": "4ddbeae3-3d9d-4cd1-acf3-1543f7b9eaf8",
   "metadata": {},
   "source": [
    "----\n",
    "## `ProductManifold`"
   ]
  },
  {
   "cell_type": "markdown",
   "id": "b2a66574-373a-4bd7-9240-2502cb407ecd",
   "metadata": {},
   "source": [
    "New manifolds can also be created by composing existing manifolds. A product manifold combines two manifolds $M_1$ and $M_2$ to create a new manifold $M_3$, and more generally $N$ manifolds $M1, ..., M_N$ can be combined to create a new manifold $M$."
   ]
  },
  {
   "cell_type": "markdown",
   "id": "fbab94ef-4f8a-4eb1-8ea8-013b8adf47eb",
   "metadata": {},
   "source": [
    "### Example"
   ]
  },
  {
   "cell_type": "markdown",
   "id": "4cf15934-751b-4d76-b856-980dcd457ed5",
   "metadata": {},
   "source": [
    "For example, we can create a product of two spheres as:"
   ]
  },
  {
   "cell_type": "code",
   "execution_count": 25,
   "id": "3ea256a0-6656-4982-a0c2-e4de7b9a1407",
   "metadata": {},
   "outputs": [],
   "source": [
    "from geomstats.geometry.product_manifold import ProductManifold\n",
    "sphere1 = Hypersphere(dim=2)\n",
    "\n",
    "sphere2 = Hypersphere(dim=2)\n",
    "\n",
    "\n",
    "product_of_two_spheres = ProductManifold([sphere1, sphere2])"
   ]
  },
  {
   "cell_type": "markdown",
   "id": "12d373b3-ade0-4013-8687-e52ba60a6f05",
   "metadata": {},
   "source": [
    "If we generate a random point on this product manifold, we will get 6 coordinates: the first 3 represent a point on the first sphere, and the last 3 represent a point on the second sphere:"
   ]
  },
  {
   "cell_type": "code",
   "execution_count": 26,
   "id": "5c76b157-cbd8-4b2c-9c61-ffe7f251a560",
   "metadata": {},
   "outputs": [
    {
     "data": {
      "text/plain": [
       "array([-0.14573203,  0.15373756,  0.97730596, -0.349178  , -0.48842141,\n",
       "        0.79969947])"
      ]
     },
     "execution_count": 26,
     "metadata": {},
     "output_type": "execute_result"
    }
   ],
   "source": [
    "product_of_two_spheres.random_point()"
   ]
  },
  {
   "cell_type": "markdown",
   "id": "03509906-b632-43ce-8f92-15cbd3babc2e",
   "metadata": {},
   "source": [
    "You can run the code below to see the contents of the `ProductManifold` class."
   ]
  },
  {
   "cell_type": "code",
   "execution_count": 12,
   "id": "cf6e511a-fda2-407d-94f4-7078e0cbb087",
   "metadata": {
    "scrolled": true
   },
   "outputs": [
    {
     "name": "stdout",
     "output_type": "stream",
     "text": [
      "Help on class ProductManifold in module geomstats.geometry.product_manifold:\n",
      "\n",
      "class ProductManifold(geomstats.geometry.manifold.Manifold)\n",
      " |  ProductManifold(manifolds, metrics=None, default_point_type='vector', n_jobs=1, **kwargs)\n",
      " |  \n",
      " |  Class for a product of manifolds M_1 x ... x M_n.\n",
      " |  \n",
      " |  In contrast to the classes NFoldManifold, Landmarks, or DiscretizedCurves,\n",
      " |  the manifolds M_1, ..., M_n need not be the same, nor of\n",
      " |  same dimension, but the list of manifolds needs to be provided.\n",
      " |  \n",
      " |  By default, a point is represented by an array of shape:\n",
      " |  [..., dim_1 + ... + dim_n_manifolds]\n",
      " |  where n_manifolds is the number of manifolds in the product.\n",
      " |  This type of representation is called 'vector'.\n",
      " |  \n",
      " |  Alternatively, a point can be represented by an array of shape:\n",
      " |  [..., n_manifolds, dim] if the n_manifolds have same dimension dim.\n",
      " |  This type of representation is called `matrix`.\n",
      " |  \n",
      " |  Parameters\n",
      " |  ----------\n",
      " |  manifolds : list\n",
      " |      List of manifolds in the product.\n",
      " |  default_point_type : str, {'vector', 'matrix'}\n",
      " |      Default representation of points.\n",
      " |      Optional, default: 'vector'.\n",
      " |  n_jobs : int\n",
      " |      Number of jobs for parallel computing.\n",
      " |      Optional, default: 1.\n",
      " |  \n",
      " |  Method resolution order:\n",
      " |      ProductManifold\n",
      " |      geomstats.geometry.manifold.Manifold\n",
      " |      abc.ABC\n",
      " |      builtins.object\n",
      " |  \n",
      " |  Methods defined here:\n",
      " |  \n",
      " |  __init__(self, manifolds, metrics=None, default_point_type='vector', n_jobs=1, **kwargs)\n",
      " |      Initialize self.  See help(type(self)) for accurate signature.\n",
      " |  \n",
      " |  belongs(self, point, atol=1e-12)\n",
      " |      Test if a point belongs to the manifold.\n",
      " |      \n",
      " |      Parameters\n",
      " |      ----------\n",
      " |      point : array-like, shape=[..., {dim, [n_manifolds, dim_each]}]\n",
      " |          Point.\n",
      " |      atol : float,\n",
      " |          Tolerance.\n",
      " |      \n",
      " |      Returns\n",
      " |      -------\n",
      " |      belongs : array-like, shape=[...,]\n",
      " |          Boolean evaluating if the point belongs to the manifold.\n",
      " |  \n",
      " |  is_tangent(self, vector, base_point, atol=1e-12)\n",
      " |      Check whether the vector is tangent at base_point.\n",
      " |      \n",
      " |      The tangent space of the product manifold is the direct sum of\n",
      " |      tangent spaces.\n",
      " |      \n",
      " |      Parameters\n",
      " |      ----------\n",
      " |      vector : array-like, shape=[..., dim]\n",
      " |          Vector.\n",
      " |      base_point : array-like, shape=[..., dim]\n",
      " |          Point on the manifold.\n",
      " |      atol : float\n",
      " |          Absolute tolerance.\n",
      " |          Optional, default: backend atol.\n",
      " |      \n",
      " |      Returns\n",
      " |      -------\n",
      " |      is_tangent : bool\n",
      " |          Boolean denoting if vector is a tangent vector at the base point.\n",
      " |  \n",
      " |  projection(self, point)\n",
      " |      Project a point in product embedding manifold on each manifold.\n",
      " |      \n",
      " |      Parameters\n",
      " |      ----------\n",
      " |      point : array-like, shape=[..., {dim, [n_manifolds, dim_each]}]\n",
      " |          Point in embedding manifold.\n",
      " |      \n",
      " |      Returns\n",
      " |      -------\n",
      " |      projected : array-like, shape=[..., {dim, [n_manifolds, dim_each]}]\n",
      " |          Projected point.\n",
      " |  \n",
      " |  random_point(self, n_samples=1, bound=1.0)\n",
      " |      Sample in the product space from the uniform distribution.\n",
      " |      \n",
      " |      Parameters\n",
      " |      ----------\n",
      " |      n_samples : int, optional\n",
      " |          Number of samples.\n",
      " |      bound : float\n",
      " |          Bound of the interval in which to sample for non compact manifolds.\n",
      " |          Optional, default: 1.\n",
      " |      \n",
      " |      Returns\n",
      " |      -------\n",
      " |      samples : array-like, shape=[..., {dim, [n_manifolds, dim_each]}]\n",
      " |          Points sampled on the hypersphere.\n",
      " |  \n",
      " |  regularize(self, point)\n",
      " |      Regularize the point into the manifold's canonical representation.\n",
      " |      \n",
      " |      Parameters\n",
      " |      ----------\n",
      " |      point : array-like, shape=[..., {dim, [n_manifolds, dim_each]}]\n",
      " |          Point to be regularized.\n",
      " |      point_type : str, {'vector', 'matrix'}\n",
      " |          Representation of point.\n",
      " |          Optional, default: None.\n",
      " |      \n",
      " |      Returns\n",
      " |      -------\n",
      " |      regularized_point : array-like,\n",
      " |          shape=[..., {dim, [n_manifolds, dim_each]}]\n",
      " |          Point in the manifold's canonical representation.\n",
      " |  \n",
      " |  to_tangent(self, vector, base_point)\n",
      " |      Project a vector to a tangent space of the manifold.\n",
      " |      \n",
      " |      The tangent space of the product manifold is the direct sum of\n",
      " |      tangent spaces.\n",
      " |      \n",
      " |      Parameters\n",
      " |      ----------\n",
      " |      vector : array-like, shape=[..., dim]\n",
      " |          Vector.\n",
      " |      base_point : array-like, shape=[..., dim]\n",
      " |          Point on the manifold.\n",
      " |      \n",
      " |      Returns\n",
      " |      -------\n",
      " |      tangent_vec : array-like, shape=[..., dim]\n",
      " |          Tangent vector at base point.\n",
      " |  \n",
      " |  ----------------------------------------------------------------------\n",
      " |  Data and other attributes defined here:\n",
      " |  \n",
      " |  __abstractmethods__ = frozenset()\n",
      " |  \n",
      " |  ----------------------------------------------------------------------\n",
      " |  Methods inherited from geomstats.geometry.manifold.Manifold:\n",
      " |  \n",
      " |  random_tangent_vec(self, base_point, n_samples=1)\n",
      " |      Generate random tangent vec.\n",
      " |      \n",
      " |      Parameters\n",
      " |      ----------\n",
      " |      n_samples : int\n",
      " |          Number of samples.\n",
      " |          Optional, default: 1.\n",
      " |      base_point :  array-like, shape=[..., dim]\n",
      " |          Point.\n",
      " |      \n",
      " |      Returns\n",
      " |      -------\n",
      " |      tangent_vec : array-like, shape=[..., dim]\n",
      " |          Tangent vec at base point.\n",
      " |  \n",
      " |  ----------------------------------------------------------------------\n",
      " |  Data descriptors inherited from geomstats.geometry.manifold.Manifold:\n",
      " |  \n",
      " |  __dict__\n",
      " |      dictionary for instance variables (if defined)\n",
      " |  \n",
      " |  __weakref__\n",
      " |      list of weak references to the object (if defined)\n",
      " |  \n",
      " |  metric\n",
      " |      Riemannian Metric associated to the Manifold.\n",
      "\n"
     ]
    }
   ],
   "source": [
    "from geomstats.geometry.product_manifold import ProductManifold\n",
    "help(ProductManifold)"
   ]
  },
  {
   "cell_type": "markdown",
   "id": "5c299f63-5bc7-4691-8e8e-3661e0d33ed1",
   "metadata": {},
   "source": [
    "----\n",
    "# What is a Connection?"
   ]
  },
  {
   "cell_type": "markdown",
   "id": "fc98b278-4236-40ee-a6a9-6d5aab9c60c0",
   "metadata": {},
   "source": [
    "## A friendly description of the connection, with an example"
   ]
  },
  {
   "cell_type": "markdown",
   "id": "5a785fa0-0791-4e8d-9874-e80dff4da139",
   "metadata": {},
   "source": [
    "Consider a single vector $\\vec{a_p}$, tangent to the manifold at point $p$ (shown in the figure below)."
   ]
  },
  {
   "cell_type": "markdown",
   "id": "d9f9af8b-eefe-4edc-ba6c-a876d1fe76a8",
   "metadata": {},
   "source": [
    "![connection_single_vec](https://github.com/geomstats/geomstats/blob/master/notebooks/figures/conn_single_vector.png?raw=true)"
   ]
  },
  {
   "cell_type": "markdown",
   "id": "a14a9076-27e2-4236-b798-27f14523723e",
   "metadata": {},
   "source": [
    "Now, suppose you want to see what vector $\\vec{a_p}$ looks like when it is translated to a different point on the manifold. You may be asking why we are placing importance on this question-- because for a vector in cartesian coordinates, this question would be trivial. If you translated vector $\\vec{a_p}$ to a different point in cartesian coordinates, the vector itself would not change (as shown in the figure below)."
   ]
  },
  {
   "cell_type": "markdown",
   "id": "52b2fe01-8274-44aa-94e3-295eaa10efdf",
   "metadata": {},
   "source": [
    "![conn_cart_trans](https://github.com/geomstats/geomstats/blob/master/notebooks/figures/conn_cartesian_transport.png?raw=true)"
   ]
  },
  {
   "cell_type": "markdown",
   "id": "52eb74ea-a015-41cd-9720-1241303ca5fa",
   "metadata": {},
   "source": [
    "A spatially translated vector in cartesian coordinates does not change because the basis vectors in cartesian coordinates are translationally invariant, meaning all points in cartesian coordinates have the same set of basis vectors."
   ]
  },
  {
   "cell_type": "markdown",
   "id": "86bf1ec7-ade5-400a-b5c9-0f362159b3fc",
   "metadata": {},
   "source": [
    "This is not, however, necessarily true for points on a manifold--  if you move a tangent vector from one point to another (i.e. from one tangent space to another), the vector will not necessarily look the same after this transformation. (The figure below shows that when $\\vec{a_p}$ is translated to a different point on the manifold, it could be pointing in a direction different from its original direction.)"
   ]
  },
  {
   "cell_type": "markdown",
   "id": "32f79e94-b5a5-428b-b9e0-4b6f8ffb4da4",
   "metadata": {},
   "source": [
    "![conn_manifold_trans_prob](https://github.com/geomstats/geomstats/blob/master/notebooks/figures/conn_manifold_transport_problem.png?raw=true)"
   ]
  },
  {
   "cell_type": "markdown",
   "id": "161ba55e-06e2-484e-a9f5-955e8f305fa4",
   "metadata": {},
   "source": [
    "This is why the connection is such an important concept as we analyze data on manifolds. The connection helps us quantify how much a vector will change when we move it from one point to another on a manifold."
   ]
  },
  {
   "cell_type": "markdown",
   "id": "c17df7b8-ed69-4186-91bb-ce803f378e98",
   "metadata": {},
   "source": [
    "More specifically, the connection is able to tell us how one vector will change if it is moved in the direction of another vector. For example, if vectors $\\vec{a}$ and $\\vec{b}$ exist in the same tangent plane, then the connection $\\nabla_{\\vec{b}} \\vec{a}$ tells us how much the vector $\\vec{a}$ will change if it is moved an infinitesimally small distance in the direction of $\\vec{b}$ (shown in the figure below)."
   ]
  },
  {
   "cell_type": "markdown",
   "id": "efba9e61-e600-49cf-8661-3765c6b2e470",
   "metadata": {},
   "source": [
    "![conn_connection_2](https://github.com/geomstats/geomstats/blob/master/notebooks/figures/conn_connection_2.png?raw=true)"
   ]
  },
  {
   "cell_type": "code",
   "execution_count": null,
   "id": "54538039-edde-4a98-ab07-3902d6d998a9",
   "metadata": {},
   "outputs": [],
   "source": []
  }
 ],
 "metadata": {
  "kernelspec": {
   "display_name": "Python 3",
   "language": "python",
   "name": "python3"
  },
  "language_info": {
   "codemirror_mode": {
    "name": "ipython",
    "version": 3
   },
   "file_extension": ".py",
   "mimetype": "text/x-python",
   "name": "python",
   "nbconvert_exporter": "python",
   "pygments_lexer": "ipython3",
   "version": "3.9.12"
  }
 },
 "nbformat": 4,
 "nbformat_minor": 5
}
